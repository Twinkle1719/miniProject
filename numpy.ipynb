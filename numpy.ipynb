{
  "cells": [
    {
      "cell_type": "markdown",
      "metadata": {
        "id": "Xarhq7NYNDHI"
      },
      "source": [
        "\n",
        "<a id='np'></a>\n",
        "<div id=\"qe-notebook-header\" align=\"right\" style=\"text-align:right;\">\n",
        "        <a href=\"https://quantecon.org/\" title=\"quantecon.org\">\n",
        "                <img style=\"width:250px;display:inline;\" width=\"250px\" src=\"https://assets.quantecon.org/img/qe-menubar-logo.svg\" alt=\"QuantEcon\">\n",
        "        </a>\n",
        "</div>"
      ]
    },
    {
      "cell_type": "code",
      "source": [],
      "metadata": {
        "id": "VH5s2MXxNF0k"
      },
      "execution_count": null,
      "outputs": []
    },
    {
      "cell_type": "markdown",
      "metadata": {
        "id": "bms4h6mqNDHZ"
      },
      "source": [
        "# NumPy\n",
        "\n",
        "\n",
        "<a id='index-1'></a>"
      ]
    },
    {
      "cell_type": "markdown",
      "metadata": {
        "id": "CXNMxOtGNDHb"
      },
      "source": [
        "## Contents\n",
        "\n",
        "- [NumPy](#NumPy)  \n",
        "  - [Overview](#Overview)  \n",
        "  - [NumPy Arrays](#NumPy-Arrays)  \n",
        "  - [Operations on Arrays](#Operations-on-Arrays)  \n",
        "  - [Additional Functionality](#Additional-Functionality)  \n",
        "  - [Exercises](#Exercises)  \n",
        "  - [Solutions](#Solutions)  "
      ]
    },
    {
      "cell_type": "markdown",
      "metadata": {
        "id": "WKrjP6fiNDHc"
      },
      "source": [
        "> “Let’s be clear: the work of science has nothing whatever to do with consensus.  Consensus is the business of politics. Science, on the contrary, requires only one investigator who happens to be right, which means that he or she has results that are verifiable by reference to the real world. In science consensus is irrelevant. What is relevant is reproducible results.” – Michael Crichton"
      ]
    },
    {
      "cell_type": "markdown",
      "metadata": {
        "id": "IcAP6G-4NDHg"
      },
      "source": [
        "## Overview\n",
        "\n",
        "[NumPy](https://en.wikipedia.org/wiki/NumPy) is a first-rate library for numerical programming\n",
        "\n",
        "- Widely used in academia, finance and industry.  \n",
        "- Mature, fast, stable and under continuous development.  \n",
        "\n",
        "\n",
        "We have already seen some code involving NumPy in the preceding lectures.\n",
        "\n",
        "In this lecture, we will start a more systematic discussion of both\n",
        "\n",
        "- NumPy arrays and  \n",
        "- the fundamental array processing operations provided by NumPy.  "
      ]
    },
    {
      "cell_type": "markdown",
      "metadata": {
        "id": "4oiepo5iNDHh"
      },
      "source": [
        "### References\n",
        "\n",
        "- [The official NumPy documentation](http://docs.scipy.org/doc/numpy/reference/).  \n",
        "\n",
        "\n",
        "\n",
        "<a id='numpy-array'></a>"
      ]
    },
    {
      "cell_type": "markdown",
      "metadata": {
        "id": "9mDiUwD3NDHl"
      },
      "source": [
        "## NumPy Arrays\n",
        "\n",
        "\n",
        "<a id='index-2'></a>\n",
        "The essential problem that NumPy solves is fast array processing.\n",
        "\n",
        "The most important structure that NumPy defines is an array data type formally called a [numpy.ndarray](http://docs.scipy.org/doc/numpy/reference/arrays.ndarray.html).\n",
        "\n",
        "NumPy arrays power a large proportion of the scientific Python ecosystem.\n",
        "\n",
        "Let’s first import the library."
      ]
    },
    {
      "cell_type": "code",
      "source": [
        "import numpy as np\n",
        "a1=np.array([1,2,3])\n",
        "a2=np.array([10,11,12])\n",
        "type(a1)\n",
        "a3=a1+a2\n",
        "print(a1)"
      ],
      "metadata": {
        "colab": {
          "base_uri": "https://localhost:8080/"
        },
        "id": "NJdzqIL3Pre0",
        "outputId": "979cb32c-c2ad-46ac-a4b7-c0b33ae0fbdc"
      },
      "execution_count": 2,
      "outputs": [
        {
          "output_type": "stream",
          "name": "stdout",
          "text": [
            "[1 2 3]\n"
          ]
        }
      ]
    },
    {
      "cell_type": "code",
      "source": [],
      "metadata": {
        "id": "Gg0cNlPUReSG"
      },
      "execution_count": null,
      "outputs": []
    },
    {
      "cell_type": "code",
      "execution_count": null,
      "metadata": {
        "hide-output": false,
        "id": "0wtbgov6NDHn"
      },
      "outputs": [],
      "source": [
        "import numpy as np"
      ]
    },
    {
      "cell_type": "markdown",
      "metadata": {
        "id": "VqHcrwfMNDHq"
      },
      "source": [
        "To create a NumPy array containing only zeros we use  [np.zeros](http://docs.scipy.org/doc/numpy/reference/generated/numpy.zeros.html#numpy.zeros)"
      ]
    },
    {
      "cell_type": "code",
      "execution_count": null,
      "metadata": {
        "hide-output": false,
        "id": "FW7JkvrBNDHr"
      },
      "outputs": [],
      "source": [
        "a = np.zeros(3)\n",
        "a"
      ]
    },
    {
      "cell_type": "code",
      "execution_count": null,
      "metadata": {
        "hide-output": false,
        "id": "YwweTyO3NDHt"
      },
      "outputs": [],
      "source": [
        "type(a)"
      ]
    },
    {
      "cell_type": "markdown",
      "metadata": {
        "id": "Mu4p3p99NDHu"
      },
      "source": [
        "NumPy arrays are somewhat like native Python lists, except that\n",
        "\n",
        "- Data *must be homogeneous* (all elements of the same type).  \n",
        "- These types must be one of the [data types](https://docs.scipy.org/doc/numpy/reference/arrays.dtypes.html) (`dtypes`) provided by NumPy.  \n",
        "\n",
        "\n",
        "The most important of these dtypes are:\n",
        "\n",
        "- float64: 64 bit floating-point number  \n",
        "- int64: 64 bit integer  \n",
        "- bool:  8 bit True or False  \n",
        "\n",
        "\n",
        "There are also dtypes to represent complex numbers, unsigned integers, etc.\n",
        "\n",
        "On modern machines, the default dtype for arrays is `float64`"
      ]
    },
    {
      "cell_type": "code",
      "execution_count": null,
      "metadata": {
        "hide-output": false,
        "id": "G_I872TINDHu"
      },
      "outputs": [],
      "source": [
        "a = np.zeros(3)\n",
        "type(a[0])"
      ]
    },
    {
      "cell_type": "markdown",
      "metadata": {
        "id": "MhJIDaKVNDHv"
      },
      "source": [
        "If we want to use integers we can specify as follows:"
      ]
    },
    {
      "cell_type": "code",
      "execution_count": null,
      "metadata": {
        "hide-output": false,
        "id": "_sp6FW_ZNDHw"
      },
      "outputs": [],
      "source": [
        "a = np.zeros(3, dtype=int)\n",
        "type(a[0])"
      ]
    },
    {
      "cell_type": "markdown",
      "metadata": {
        "id": "HC2_q41UNDHx"
      },
      "source": [
        "\n",
        "<a id='numpy-shape-dim'></a>"
      ]
    },
    {
      "cell_type": "markdown",
      "metadata": {
        "id": "5Z2pZqFMNDHy"
      },
      "source": [
        "### Shape and Dimension\n",
        "\n",
        "\n",
        "<a id='index-3'></a>\n",
        "Consider the following assignment"
      ]
    },
    {
      "cell_type": "code",
      "execution_count": null,
      "metadata": {
        "hide-output": false,
        "id": "8U3HO8iCNDHy"
      },
      "outputs": [],
      "source": [
        "z = np.zeros(10)"
      ]
    },
    {
      "cell_type": "markdown",
      "metadata": {
        "id": "dDTFsM6INDH1"
      },
      "source": [
        "Here `z` is a *flat* array with no dimension — neither row nor column vector.\n",
        "\n",
        "The dimension is recorded in the `shape` attribute, which is a tuple"
      ]
    },
    {
      "cell_type": "code",
      "execution_count": null,
      "metadata": {
        "hide-output": false,
        "id": "4UmqsiimNDH1"
      },
      "outputs": [],
      "source": [
        "z.shape"
      ]
    },
    {
      "cell_type": "markdown",
      "metadata": {
        "id": "6fGqN0Y_NDH2"
      },
      "source": [
        "Here the shape tuple has only one element, which is the length of the array (tuples with one element end with a comma).\n",
        "\n",
        "To give it dimension, we can change the `shape` attribute"
      ]
    },
    {
      "cell_type": "code",
      "execution_count": null,
      "metadata": {
        "hide-output": false,
        "id": "jiPwPxW5NDH3"
      },
      "outputs": [],
      "source": [
        "z.shape = (10, 1)\n",
        "z"
      ]
    },
    {
      "cell_type": "code",
      "execution_count": null,
      "metadata": {
        "hide-output": false,
        "id": "LfH3M8LnNDH4"
      },
      "outputs": [],
      "source": [
        "z = np.zeros(4)\n",
        "z.shape = (2, 2)\n",
        "z"
      ]
    },
    {
      "cell_type": "markdown",
      "metadata": {
        "id": "5uNNjO6RNDH5"
      },
      "source": [
        "In the last case, to make the 2 by 2 array, we could also pass a tuple to the `zeros()` function, as\n",
        "in `z = np.zeros((2, 2))`.\n",
        "\n",
        "\n",
        "<a id='creating-arrays'></a>"
      ]
    },
    {
      "cell_type": "markdown",
      "metadata": {
        "id": "mB--eYExNDH5"
      },
      "source": [
        "### Creating Arrays\n",
        "\n",
        "\n",
        "<a id='index-4'></a>\n",
        "As we’ve seen, the `np.zeros` function creates an array of zeros.\n",
        "\n",
        "You can probably guess what `np.ones` creates.\n",
        "\n",
        "Related is `np.empty`, which creates arrays in memory that can later be populated with data"
      ]
    },
    {
      "cell_type": "code",
      "execution_count": null,
      "metadata": {
        "hide-output": false,
        "id": "Z6m3GDgONDH6"
      },
      "outputs": [],
      "source": [
        "z = np.empty(3)\n",
        "z"
      ]
    },
    {
      "cell_type": "markdown",
      "metadata": {
        "id": "1WBF2qYxNDH7"
      },
      "source": [
        "The numbers you see here are garbage values.\n",
        "\n",
        "(Python allocates 3 contiguous 64 bit pieces of memory, and the existing contents of those memory slots are interpreted as `float64` values)\n",
        "\n",
        "To set up a grid of evenly spaced numbers use `np.linspace`"
      ]
    },
    {
      "cell_type": "code",
      "execution_count": null,
      "metadata": {
        "hide-output": false,
        "id": "aBPWxsTcNDH8"
      },
      "outputs": [],
      "source": [
        "z = np.linspace(2, 4, 5)  # From 2 to 4, with 5 elements"
      ]
    },
    {
      "cell_type": "markdown",
      "metadata": {
        "id": "JcBA5WMSNDH8"
      },
      "source": [
        "To create an identity matrix use either `np.identity` or `np.eye`"
      ]
    },
    {
      "cell_type": "code",
      "execution_count": null,
      "metadata": {
        "hide-output": false,
        "id": "x7Ibos-wNDH9"
      },
      "outputs": [],
      "source": [
        "z = np.identity(2)\n",
        "z"
      ]
    },
    {
      "cell_type": "markdown",
      "metadata": {
        "id": "eUMj98VINDH9"
      },
      "source": [
        "In addition, NumPy arrays can be created from Python lists, tuples, etc. using `np.array`"
      ]
    },
    {
      "cell_type": "code",
      "execution_count": null,
      "metadata": {
        "hide-output": false,
        "id": "BIxGblFjNDH9"
      },
      "outputs": [],
      "source": [
        "z = np.array([10, 20])                 # ndarray from Python list\n",
        "z"
      ]
    },
    {
      "cell_type": "code",
      "execution_count": null,
      "metadata": {
        "hide-output": false,
        "id": "fefRBTokNDH-"
      },
      "outputs": [],
      "source": [
        "type(z)"
      ]
    },
    {
      "cell_type": "code",
      "execution_count": null,
      "metadata": {
        "hide-output": false,
        "id": "9XTxOQsQNDH-"
      },
      "outputs": [],
      "source": [
        "z = np.array((10, 20), dtype=float)    # Here 'float' is equivalent to 'np.float64'\n",
        "z"
      ]
    },
    {
      "cell_type": "code",
      "execution_count": null,
      "metadata": {
        "hide-output": false,
        "id": "xAjpKQWxNDH_"
      },
      "outputs": [],
      "source": [
        "z = np.array([[1, 2], [3, 4]])         # 2D array from a list of lists\n",
        "z"
      ]
    },
    {
      "cell_type": "markdown",
      "metadata": {
        "id": "EYDybCBXNDIA"
      },
      "source": [
        "See also `np.asarray`, which performs a similar function, but does not make\n",
        "a distinct copy of data already in a NumPy array."
      ]
    },
    {
      "cell_type": "code",
      "execution_count": null,
      "metadata": {
        "hide-output": false,
        "id": "xSndrLHVNDIA"
      },
      "outputs": [],
      "source": [
        "na = np.linspace(10, 20, 2)\n",
        "na is np.asarray(na)   # Does not copy NumPy arrays"
      ]
    },
    {
      "cell_type": "code",
      "execution_count": null,
      "metadata": {
        "hide-output": false,
        "id": "3tJ3f05pNDIA"
      },
      "outputs": [],
      "source": [
        "na is np.array(na)     # Does make a new copy --- perhaps unnecessarily"
      ]
    },
    {
      "cell_type": "markdown",
      "metadata": {
        "id": "CTas8l2UNDIB"
      },
      "source": [
        "To read in the array data from a text file containing numeric data use `np.loadtxt`\n",
        "or `np.genfromtxt`—see [the documentation](http://docs.scipy.org/doc/numpy/reference/routines.io.html) for details."
      ]
    },
    {
      "cell_type": "markdown",
      "metadata": {
        "id": "kWHo5yqsNDIO"
      },
      "source": [
        "### Array Indexing\n",
        "\n",
        "\n",
        "<a id='index-5'></a>\n",
        "For a flat array, indexing is the same as Python sequences:"
      ]
    },
    {
      "cell_type": "code",
      "execution_count": null,
      "metadata": {
        "hide-output": false,
        "id": "WWC5A1G4NDIP"
      },
      "outputs": [],
      "source": [
        "z = np.linspace(1, 2, 5)\n",
        "z"
      ]
    },
    {
      "cell_type": "code",
      "execution_count": null,
      "metadata": {
        "hide-output": false,
        "id": "uSXO_CAyNDIR"
      },
      "outputs": [],
      "source": [
        "z[0]"
      ]
    },
    {
      "cell_type": "code",
      "execution_count": null,
      "metadata": {
        "hide-output": false,
        "id": "1Js0AGfgNDIT"
      },
      "outputs": [],
      "source": [
        "z[0:2]  # Two elements, starting at element 0"
      ]
    },
    {
      "cell_type": "code",
      "execution_count": null,
      "metadata": {
        "hide-output": false,
        "id": "vrXUQBVuNDIY"
      },
      "outputs": [],
      "source": [
        "z[-1]"
      ]
    },
    {
      "cell_type": "markdown",
      "metadata": {
        "id": "TPOE-8MPNDIY"
      },
      "source": [
        "For 2D arrays the index syntax is as follows:"
      ]
    },
    {
      "cell_type": "code",
      "execution_count": null,
      "metadata": {
        "hide-output": false,
        "id": "dqjsd0qnNDIZ"
      },
      "outputs": [],
      "source": [
        "z = np.array([[1, 2], [3, 4]])\n",
        "z"
      ]
    },
    {
      "cell_type": "code",
      "execution_count": null,
      "metadata": {
        "hide-output": false,
        "id": "J8XoJyw5NDIZ"
      },
      "outputs": [],
      "source": [
        "z[0, 0]"
      ]
    },
    {
      "cell_type": "code",
      "execution_count": null,
      "metadata": {
        "hide-output": false,
        "id": "tOHPIgxrNDIa"
      },
      "outputs": [],
      "source": [
        "z[0, 1]"
      ]
    },
    {
      "cell_type": "markdown",
      "metadata": {
        "id": "tYldmMrBNDIa"
      },
      "source": [
        "And so on.\n",
        "\n",
        "Note that indices are still zero-based, to maintain compatibility with Python sequences.\n",
        "\n",
        "Columns and rows can be extracted as follows"
      ]
    },
    {
      "cell_type": "code",
      "execution_count": null,
      "metadata": {
        "hide-output": false,
        "id": "oQ_kdhF2NDIb"
      },
      "outputs": [],
      "source": [
        "z[0, :]"
      ]
    },
    {
      "cell_type": "code",
      "execution_count": null,
      "metadata": {
        "hide-output": false,
        "id": "e2EdZfCVNDIb"
      },
      "outputs": [],
      "source": [
        "z[:, 1]"
      ]
    },
    {
      "cell_type": "markdown",
      "metadata": {
        "id": "a5TIA7rQNDIc"
      },
      "source": [
        "NumPy arrays of integers can also be used to extract elements"
      ]
    },
    {
      "cell_type": "code",
      "execution_count": null,
      "metadata": {
        "hide-output": false,
        "id": "pn1uN3n6NDIc"
      },
      "outputs": [],
      "source": [
        "z = np.linspace(2, 4, 5)\n",
        "z"
      ]
    },
    {
      "cell_type": "code",
      "execution_count": null,
      "metadata": {
        "hide-output": false,
        "id": "GmtpmeyvNDId"
      },
      "outputs": [],
      "source": [
        "indices = np.array((0, 2, 3))\n",
        "z[indices]"
      ]
    },
    {
      "cell_type": "markdown",
      "metadata": {
        "id": "0Zt1c8vFNDIw"
      },
      "source": [
        "Finally, an array of `dtype bool` can be used to extract elements"
      ]
    },
    {
      "cell_type": "code",
      "execution_count": null,
      "metadata": {
        "hide-output": false,
        "id": "eWQcCLNQNDIw"
      },
      "outputs": [],
      "source": [
        "z"
      ]
    },
    {
      "cell_type": "code",
      "execution_count": null,
      "metadata": {
        "hide-output": false,
        "id": "v5Icx45QNDIx"
      },
      "outputs": [],
      "source": [
        "d = np.array([0, 1, 1, 0, 0], dtype=bool)\n",
        "d"
      ]
    },
    {
      "cell_type": "code",
      "execution_count": null,
      "metadata": {
        "hide-output": false,
        "id": "LlBNQgrQNDIy"
      },
      "outputs": [],
      "source": [
        "z[d]"
      ]
    },
    {
      "cell_type": "markdown",
      "metadata": {
        "id": "zkrqjcrANDIz"
      },
      "source": [
        "We’ll see why this is useful below.\n",
        "\n",
        "An aside: all elements of an array can be set equal to one number using slice notation"
      ]
    },
    {
      "cell_type": "code",
      "execution_count": null,
      "metadata": {
        "hide-output": false,
        "id": "3DvSL1lDNDI0"
      },
      "outputs": [],
      "source": [
        "z = np.empty(3)\n",
        "z"
      ]
    },
    {
      "cell_type": "code",
      "execution_count": null,
      "metadata": {
        "hide-output": false,
        "id": "5rXfzeJxNDI0"
      },
      "outputs": [],
      "source": [
        "z[:] = 42\n",
        "z"
      ]
    },
    {
      "cell_type": "markdown",
      "metadata": {
        "id": "pMkqqFK-NDI1"
      },
      "source": [
        "### Array Methods\n",
        "\n",
        "\n",
        "<a id='index-6'></a>\n",
        "Arrays have useful methods, all of which are carefully optimized"
      ]
    },
    {
      "cell_type": "code",
      "execution_count": null,
      "metadata": {
        "hide-output": false,
        "id": "SwMGCFLINDI3"
      },
      "outputs": [],
      "source": [
        "a = np.array((4, 3, 2, 1))\n",
        "a"
      ]
    },
    {
      "cell_type": "code",
      "execution_count": null,
      "metadata": {
        "hide-output": false,
        "id": "jORUJR6UNDI4"
      },
      "outputs": [],
      "source": [
        "a.sort()              # Sorts a in place\n",
        "a"
      ]
    },
    {
      "cell_type": "code",
      "execution_count": null,
      "metadata": {
        "hide-output": false,
        "id": "Z6K7r8M9NDI5"
      },
      "outputs": [],
      "source": [
        "a.sum()               # Sum"
      ]
    },
    {
      "cell_type": "code",
      "execution_count": null,
      "metadata": {
        "hide-output": false,
        "id": "22Fzk0KpNDI5"
      },
      "outputs": [],
      "source": [
        "a.mean()              # Mean"
      ]
    },
    {
      "cell_type": "code",
      "execution_count": null,
      "metadata": {
        "hide-output": false,
        "id": "3NDWlGzlNDI6"
      },
      "outputs": [],
      "source": [
        "a.max()               # Max"
      ]
    },
    {
      "cell_type": "code",
      "execution_count": null,
      "metadata": {
        "hide-output": false,
        "id": "MNlVG0hDNDI6"
      },
      "outputs": [],
      "source": [
        "a.argmax()            # Returns the index of the maximal element"
      ]
    },
    {
      "cell_type": "code",
      "execution_count": null,
      "metadata": {
        "hide-output": false,
        "id": "ridpAJA3NDI7"
      },
      "outputs": [],
      "source": [
        "a.cumsum()            # Cumulative sum of the elements of a"
      ]
    },
    {
      "cell_type": "code",
      "execution_count": null,
      "metadata": {
        "hide-output": false,
        "id": "F1zwjGMNNDI7"
      },
      "outputs": [],
      "source": [
        "a.cumprod()           # Cumulative product of the elements of a"
      ]
    },
    {
      "cell_type": "code",
      "execution_count": null,
      "metadata": {
        "hide-output": false,
        "id": "Tjn9MOZrNDI8"
      },
      "outputs": [],
      "source": [
        "a.var()               # Variance"
      ]
    },
    {
      "cell_type": "code",
      "execution_count": null,
      "metadata": {
        "hide-output": false,
        "id": "UcAXnc-TNDI9"
      },
      "outputs": [],
      "source": [
        "a.std()               # Standard deviation"
      ]
    },
    {
      "cell_type": "code",
      "execution_count": null,
      "metadata": {
        "hide-output": false,
        "id": "bgPSUCMKNDI9"
      },
      "outputs": [],
      "source": [
        "a.shape = (2, 2)\n",
        "a.T                   # Equivalent to a.transpose()"
      ]
    },
    {
      "cell_type": "markdown",
      "metadata": {
        "id": "YnkdNZ9aNDI-"
      },
      "source": [
        "Another method worth knowing is `searchsorted()`.\n",
        "\n",
        "If `z` is a nondecreasing array, then `z.searchsorted(a)` returns the index of the first element of `z` that is `>= a`"
      ]
    },
    {
      "cell_type": "code",
      "execution_count": null,
      "metadata": {
        "hide-output": false,
        "id": "oBS1TFQ-NDI_"
      },
      "outputs": [],
      "source": [
        "z = np.linspace(2, 4, 5)\n",
        "z"
      ]
    },
    {
      "cell_type": "code",
      "execution_count": null,
      "metadata": {
        "hide-output": false,
        "id": "yuvwH9E5NDI_"
      },
      "outputs": [],
      "source": [
        "z.searchsorted(2.2)"
      ]
    },
    {
      "cell_type": "markdown",
      "metadata": {
        "id": "Apg8V8ZoNDJA"
      },
      "source": [
        "Many of the methods discussed above have equivalent functions in the NumPy namespace"
      ]
    },
    {
      "cell_type": "code",
      "execution_count": null,
      "metadata": {
        "hide-output": false,
        "id": "Ke77Bb-5NDJA"
      },
      "outputs": [],
      "source": [
        "a = np.array((4, 3, 2, 1))"
      ]
    },
    {
      "cell_type": "code",
      "execution_count": null,
      "metadata": {
        "hide-output": false,
        "id": "UCxWfsMXNDJB"
      },
      "outputs": [],
      "source": [
        "np.sum(a)"
      ]
    },
    {
      "cell_type": "code",
      "execution_count": null,
      "metadata": {
        "hide-output": false,
        "id": "7Pzcoq5UNDJC"
      },
      "outputs": [],
      "source": [
        "np.mean(a)"
      ]
    },
    {
      "cell_type": "markdown",
      "metadata": {
        "id": "_ybWU5SbNDJD"
      },
      "source": [
        "## Operations on Arrays\n",
        "\n",
        "\n",
        "<a id='index-7'></a>"
      ]
    },
    {
      "cell_type": "markdown",
      "metadata": {
        "id": "iB2yxtkNNDJE"
      },
      "source": [
        "### Arithmetic Operations\n",
        "\n",
        "The operators `+`, `-`, `*`, `/` and `**` all act *elementwise* on arrays"
      ]
    },
    {
      "cell_type": "code",
      "execution_count": null,
      "metadata": {
        "hide-output": false,
        "id": "LDeb5F-9NDJE"
      },
      "outputs": [],
      "source": [
        "a = np.array([1, 2, 3, 4])\n",
        "b = np.array([5, 6, 7, 8])\n",
        "a + b"
      ]
    },
    {
      "cell_type": "code",
      "execution_count": null,
      "metadata": {
        "hide-output": false,
        "id": "gj1brhV0NDJF"
      },
      "outputs": [],
      "source": [
        "a * b"
      ]
    },
    {
      "cell_type": "markdown",
      "metadata": {
        "id": "dC_aWR_oNDJF"
      },
      "source": [
        "We can add a scalar to each element as follows"
      ]
    },
    {
      "cell_type": "code",
      "execution_count": null,
      "metadata": {
        "hide-output": false,
        "id": "h3v5YBm2NDJH"
      },
      "outputs": [],
      "source": [
        "a + 10"
      ]
    },
    {
      "cell_type": "markdown",
      "metadata": {
        "id": "j5XVCtvNNDJJ"
      },
      "source": [
        "Scalar multiplication is similar"
      ]
    },
    {
      "cell_type": "code",
      "execution_count": null,
      "metadata": {
        "hide-output": false,
        "id": "MFXg3qa1NDJK"
      },
      "outputs": [],
      "source": [
        "a * 10"
      ]
    },
    {
      "cell_type": "markdown",
      "metadata": {
        "id": "RGHzR5DHNDJL"
      },
      "source": [
        "The two-dimensional arrays follow the same general rules"
      ]
    },
    {
      "cell_type": "code",
      "execution_count": null,
      "metadata": {
        "hide-output": false,
        "id": "kQVy8iMlNDJL"
      },
      "outputs": [],
      "source": [
        "A = np.ones((2, 2))\n",
        "B = np.ones((2, 2))\n",
        "A + B"
      ]
    },
    {
      "cell_type": "code",
      "execution_count": null,
      "metadata": {
        "hide-output": false,
        "id": "m99bWefCNDJM"
      },
      "outputs": [],
      "source": [
        "A + 10"
      ]
    },
    {
      "cell_type": "code",
      "execution_count": null,
      "metadata": {
        "hide-output": false,
        "id": "SFfTcmfYNDJM"
      },
      "outputs": [],
      "source": [
        "A * B"
      ]
    },
    {
      "cell_type": "markdown",
      "metadata": {
        "id": "V8qeNPvtNDJN"
      },
      "source": [
        "\n",
        "<a id='numpy-matrix-multiplication'></a>\n",
        "In particular, `A * B` is *not* the matrix product, it is an element-wise product."
      ]
    },
    {
      "cell_type": "markdown",
      "metadata": {
        "id": "G4ZWHRoSNDJN"
      },
      "source": [
        "### Matrix Multiplication\n",
        "\n",
        "\n",
        "<a id='index-8'></a>\n",
        "With Anaconda’s scientific Python package based around Python 3.5 and above,\n",
        "one can use the `@` symbol for matrix multiplication, as follows:"
      ]
    },
    {
      "cell_type": "code",
      "execution_count": null,
      "metadata": {
        "hide-output": false,
        "id": "rPAVC-mGNDJO"
      },
      "outputs": [],
      "source": [
        "A = np.ones((2, 2))\n",
        "B = np.ones((2, 2))\n",
        "A @ B"
      ]
    },
    {
      "cell_type": "markdown",
      "metadata": {
        "id": "zhukYl_5NDJO"
      },
      "source": [
        "(For older versions of Python and NumPy you need to use the [np.dot](http://docs.scipy.org/doc/numpy/reference/generated/numpy.dot.html) function)\n",
        "\n",
        "We can also use `@` to take the inner product of two flat arrays"
      ]
    },
    {
      "cell_type": "code",
      "execution_count": null,
      "metadata": {
        "hide-output": false,
        "id": "4s3cTqJjNDJP"
      },
      "outputs": [],
      "source": [
        "A = np.array((1, 2))\n",
        "B = np.array((10, 20))\n",
        "A @ B"
      ]
    },
    {
      "cell_type": "markdown",
      "metadata": {
        "id": "GYS6Q-cUNDJP"
      },
      "source": [
        "In fact, we can use `@` when one element is a Python list or tuple"
      ]
    },
    {
      "cell_type": "code",
      "execution_count": null,
      "metadata": {
        "hide-output": false,
        "id": "I6sA4GJjNDJP"
      },
      "outputs": [],
      "source": [
        "A = np.array(((1, 2), (3, 4)))\n",
        "A"
      ]
    },
    {
      "cell_type": "code",
      "execution_count": null,
      "metadata": {
        "hide-output": false,
        "id": "VqgIecn7NDJQ"
      },
      "outputs": [],
      "source": [
        "A @ (0, 1)"
      ]
    },
    {
      "cell_type": "markdown",
      "metadata": {
        "id": "sICtQB00NDJR"
      },
      "source": [
        "Since we are post-multiplying, the tuple is treated as a column vector."
      ]
    },
    {
      "cell_type": "markdown",
      "metadata": {
        "id": "N0GBAMd-NDJS"
      },
      "source": [
        "### Mutability and Copying Arrays\n",
        "\n",
        "NumPy arrays are mutable data types, like Python lists.\n",
        "\n",
        "In other words, their contents can be altered (mutated) in memory after initialization.\n",
        "\n",
        "We already saw examples above.\n",
        "\n",
        "Here’s another example:"
      ]
    },
    {
      "cell_type": "code",
      "execution_count": null,
      "metadata": {
        "hide-output": false,
        "id": "7mnAfOMwNDJU"
      },
      "outputs": [],
      "source": [
        "a = np.array([42, 44])\n",
        "a"
      ]
    },
    {
      "cell_type": "code",
      "execution_count": null,
      "metadata": {
        "hide-output": false,
        "id": "IEZmSnuZNDJV"
      },
      "outputs": [],
      "source": [
        "a[-1] = 0  # Change last element to 0\n",
        "a"
      ]
    },
    {
      "cell_type": "markdown",
      "metadata": {
        "id": "6rysZVxQNDJW"
      },
      "source": [
        "Mutability leads to the following behavior (which can be shocking to MATLAB programmers…)"
      ]
    },
    {
      "cell_type": "code",
      "execution_count": null,
      "metadata": {
        "hide-output": false,
        "id": "Gq_NtuRjNDJb"
      },
      "outputs": [],
      "source": [
        "a = np.random.randn(3)\n",
        "a"
      ]
    },
    {
      "cell_type": "code",
      "execution_count": null,
      "metadata": {
        "hide-output": false,
        "id": "xfVOznH5NDJb"
      },
      "outputs": [],
      "source": [
        "b = a\n",
        "b[0] = 0.0\n",
        "a"
      ]
    },
    {
      "cell_type": "markdown",
      "metadata": {
        "id": "Zxn0YlrzNDJc"
      },
      "source": [
        "What’s happened is that we have changed `a` by changing `b`.\n",
        "\n",
        "The name `b` is bound to `a` and becomes just another reference to the\n",
        "array (the Python assignment model is described in more detail [later in the course](https://python.quantecon.org/python_advanced_features.html)).\n",
        "\n",
        "Hence, it has equal rights to make changes to that array.\n",
        "\n",
        "This is in fact the most sensible default behavior!\n",
        "\n",
        "It means that we pass around only pointers to data, rather than making copies.\n",
        "\n",
        "Making copies is expensive in terms of both speed and memory."
      ]
    },
    {
      "cell_type": "markdown",
      "metadata": {
        "id": "tPgcKIuyNDJc"
      },
      "source": [
        "#### Making Copies\n",
        "\n",
        "It is of course possible to make `b` an independent copy of `a` when required.\n",
        "\n",
        "This can be done using `np.copy`"
      ]
    },
    {
      "cell_type": "code",
      "execution_count": null,
      "metadata": {
        "hide-output": false,
        "id": "RWUa6gvhNDJd"
      },
      "outputs": [],
      "source": [
        "a = np.random.randn(3)\n",
        "a"
      ]
    },
    {
      "cell_type": "code",
      "execution_count": null,
      "metadata": {
        "hide-output": false,
        "id": "_B_HHxIgNDJd"
      },
      "outputs": [],
      "source": [
        "b = np.copy(a)\n",
        "b"
      ]
    },
    {
      "cell_type": "markdown",
      "metadata": {
        "id": "WNcWglh1NDJe"
      },
      "source": [
        "Now `b` is an independent copy (called a *deep copy*)"
      ]
    },
    {
      "cell_type": "code",
      "execution_count": null,
      "metadata": {
        "hide-output": false,
        "id": "_azYS1lWNDJe"
      },
      "outputs": [],
      "source": [
        "b[:] = 1\n",
        "b"
      ]
    },
    {
      "cell_type": "code",
      "execution_count": null,
      "metadata": {
        "hide-output": false,
        "id": "KOB4EhR0NDJf"
      },
      "outputs": [],
      "source": [
        "a"
      ]
    },
    {
      "cell_type": "markdown",
      "metadata": {
        "id": "d6vhdiE_NDJf"
      },
      "source": [
        "Note that the change to `b` has not affected `a`."
      ]
    },
    {
      "cell_type": "markdown",
      "metadata": {
        "id": "mIQlzxRxNDJg"
      },
      "source": [
        "## Additional Functionality\n",
        "\n",
        "Let’s look at some other useful things we can do with NumPy."
      ]
    },
    {
      "cell_type": "markdown",
      "metadata": {
        "id": "oCx50slkNDJg"
      },
      "source": [
        "### Vectorized Functions\n",
        "\n",
        "\n",
        "<a id='index-9'></a>\n",
        "NumPy provides versions of the standard functions `log`, `exp`, `sin`, etc. that act *element-wise* on arrays"
      ]
    },
    {
      "cell_type": "code",
      "execution_count": null,
      "metadata": {
        "hide-output": false,
        "id": "Va24LozvNDJh"
      },
      "outputs": [],
      "source": [
        "z = np.array([1, 2, 3])\n",
        "np.sin(z)"
      ]
    },
    {
      "cell_type": "markdown",
      "metadata": {
        "id": "ZAlU-c0qNDJi"
      },
      "source": [
        "This eliminates the need for explicit element-by-element loops such as"
      ]
    },
    {
      "cell_type": "code",
      "execution_count": null,
      "metadata": {
        "hide-output": false,
        "id": "RAUyewGCNDJj"
      },
      "outputs": [],
      "source": [
        "n = len(z)\n",
        "y = np.empty(n)\n",
        "for i in range(n):\n",
        "    y[i] = np.sin(z[i])"
      ]
    },
    {
      "cell_type": "markdown",
      "metadata": {
        "id": "Su5QYjwcNDJj"
      },
      "source": [
        "Because they act element-wise on arrays, these functions are called *vectorized functions*.\n",
        "\n",
        "In NumPy-speak, they are also called *ufuncs*, which stands for “universal functions”.\n",
        "\n",
        "As we saw above, the usual arithmetic operations (`+`, `*`, etc.) also\n",
        "work element-wise, and combining these with the ufuncs gives a very large set of fast element-wise functions."
      ]
    },
    {
      "cell_type": "code",
      "execution_count": null,
      "metadata": {
        "hide-output": false,
        "id": "cxF2qkrkNDJk"
      },
      "outputs": [],
      "source": [
        "z"
      ]
    },
    {
      "cell_type": "code",
      "execution_count": null,
      "metadata": {
        "hide-output": false,
        "id": "q0FSwmSJNDJm"
      },
      "outputs": [],
      "source": [
        "(1 / np.sqrt(2 * np.pi)) * np.exp(- 0.5 * z**2)"
      ]
    },
    {
      "cell_type": "markdown",
      "metadata": {
        "id": "xzcNr5tDNDJp"
      },
      "source": [
        "Not all user-defined functions will act element-wise.\n",
        "\n",
        "For example, passing the function `f` defined below a NumPy array causes a `ValueError`"
      ]
    },
    {
      "cell_type": "code",
      "execution_count": null,
      "metadata": {
        "hide-output": false,
        "id": "JiVX5RY7NDJq"
      },
      "outputs": [],
      "source": [
        "def f(x):\n",
        "    return 1 if x > 0 else 0"
      ]
    },
    {
      "cell_type": "markdown",
      "metadata": {
        "id": "phcpBx44NDJq"
      },
      "source": [
        "The NumPy function `np.where` provides a vectorized alternative:"
      ]
    },
    {
      "cell_type": "code",
      "execution_count": null,
      "metadata": {
        "hide-output": false,
        "id": "p0-krXd2NDJr"
      },
      "outputs": [],
      "source": [
        "x = np.random.randn(4)\n",
        "x"
      ]
    },
    {
      "cell_type": "code",
      "execution_count": null,
      "metadata": {
        "hide-output": false,
        "id": "GDffAMzYNDJs"
      },
      "outputs": [],
      "source": [
        "np.where(x > 0, 1, 0)  # Insert 1 if x > 0 true, otherwise 0"
      ]
    },
    {
      "cell_type": "markdown",
      "metadata": {
        "id": "O1OM045WNDJt"
      },
      "source": [
        "You can also use `np.vectorize` to vectorize a given function"
      ]
    },
    {
      "cell_type": "code",
      "execution_count": null,
      "metadata": {
        "hide-output": false,
        "id": "w18ivI-1NDJu"
      },
      "outputs": [],
      "source": [
        "f = np.vectorize(f)\n",
        "f(x)                # Passing the same vector x as in the previous example"
      ]
    },
    {
      "cell_type": "markdown",
      "metadata": {
        "id": "UouMSGBANDJu"
      },
      "source": [
        "However, this approach doesn’t always obtain the same speed as a more carefully crafted vectorized function."
      ]
    },
    {
      "cell_type": "markdown",
      "metadata": {
        "id": "CZJNBSuMNDJv"
      },
      "source": [
        "### Comparisons\n",
        "\n",
        "\n",
        "<a id='index-10'></a>\n",
        "As a rule, comparisons on arrays are done element-wise"
      ]
    },
    {
      "cell_type": "code",
      "execution_count": null,
      "metadata": {
        "hide-output": false,
        "id": "a05rcs92NDJv"
      },
      "outputs": [],
      "source": [
        "z = np.array([2, 3])\n",
        "y = np.array([2, 3])\n",
        "z == y"
      ]
    },
    {
      "cell_type": "code",
      "execution_count": null,
      "metadata": {
        "hide-output": false,
        "id": "rTlM3Q3fNDJv"
      },
      "outputs": [],
      "source": [
        "y[0] = 5\n",
        "z == y"
      ]
    },
    {
      "cell_type": "code",
      "execution_count": null,
      "metadata": {
        "hide-output": false,
        "id": "bkFV_nMNNDJw"
      },
      "outputs": [],
      "source": [
        "z != y"
      ]
    },
    {
      "cell_type": "markdown",
      "metadata": {
        "id": "UEXjnJ8qNDJw"
      },
      "source": [
        "The situation is similar for `>`, `<`, `>=` and `<=`.\n",
        "\n",
        "We can also do comparisons against scalars"
      ]
    },
    {
      "cell_type": "code",
      "execution_count": null,
      "metadata": {
        "hide-output": false,
        "id": "ynytVu2TNDJx"
      },
      "outputs": [],
      "source": [
        "z = np.linspace(0, 10, 5)\n",
        "z"
      ]
    },
    {
      "cell_type": "code",
      "execution_count": null,
      "metadata": {
        "hide-output": false,
        "id": "t6VMA4jBNDJx"
      },
      "outputs": [],
      "source": [
        "z > 3"
      ]
    },
    {
      "cell_type": "markdown",
      "metadata": {
        "id": "7cagGpDSNDJy"
      },
      "source": [
        "This is particularly useful for *conditional extraction*"
      ]
    },
    {
      "cell_type": "code",
      "execution_count": null,
      "metadata": {
        "hide-output": false,
        "id": "qJ1cgdiTNDJz"
      },
      "outputs": [],
      "source": [
        "b = z > 3\n",
        "b"
      ]
    },
    {
      "cell_type": "code",
      "execution_count": null,
      "metadata": {
        "hide-output": false,
        "id": "NxqCKM0yNDJz"
      },
      "outputs": [],
      "source": [
        "z[b]"
      ]
    },
    {
      "cell_type": "markdown",
      "metadata": {
        "id": "jjUSgtjTNDJ0"
      },
      "source": [
        "Of course we can—and frequently do—perform this in one step"
      ]
    },
    {
      "cell_type": "code",
      "execution_count": null,
      "metadata": {
        "hide-output": false,
        "id": "QV2MQkyyNDJ1"
      },
      "outputs": [],
      "source": [
        "z[z > 3]"
      ]
    },
    {
      "cell_type": "markdown",
      "metadata": {
        "id": "syWXJBb-NDJ1"
      },
      "source": [
        "### Sub-packages\n",
        "\n",
        "NumPy provides some additional functionality related to scientific programming\n",
        "through its sub-packages.\n",
        "\n",
        "We’ve already seen how we can generate random variables using np.random"
      ]
    },
    {
      "cell_type": "code",
      "execution_count": null,
      "metadata": {
        "hide-output": false,
        "id": "XTzviRdBNDJ2"
      },
      "outputs": [],
      "source": [
        "z = np.random.randn(10000)  # Generate standard normals\n",
        "y = np.random.binomial(10, 0.5, size=1000)    # 1,000 draws from Bin(10, 0.5)\n",
        "y.mean()"
      ]
    },
    {
      "cell_type": "markdown",
      "metadata": {
        "id": "ImZNTQsSNDJ3"
      },
      "source": [
        "Another commonly used subpackage is np.linalg"
      ]
    },
    {
      "cell_type": "code",
      "execution_count": null,
      "metadata": {
        "hide-output": false,
        "id": "LCK4TSo6NDJ5"
      },
      "outputs": [],
      "source": [
        "A = np.array([[1, 2], [3, 4]])\n",
        "\n",
        "np.linalg.det(A)           # Compute the determinant"
      ]
    },
    {
      "cell_type": "code",
      "execution_count": null,
      "metadata": {
        "hide-output": false,
        "id": "8Oljvox1NDJ6"
      },
      "outputs": [],
      "source": [
        "np.linalg.inv(A)           # Compute the inverse"
      ]
    },
    {
      "cell_type": "markdown",
      "metadata": {
        "id": "4jZINV5yNDJ7"
      },
      "source": [
        "\n",
        "<a id='index-12'></a>\n",
        "Much of this functionality is also available in [SciPy](http://www.scipy.org/), a collection of modules that are built on top of NumPy.\n",
        "\n",
        "We’ll cover the SciPy versions in more detail [soon](https://python.quantecon.org/scipy.html).\n",
        "\n",
        "For a comprehensive list of what’s available in NumPy see [this documentation](https://docs.scipy.org/doc/numpy/reference/routines.html)."
      ]
    },
    {
      "cell_type": "markdown",
      "metadata": {
        "id": "0Wc6XTlzNDJ8"
      },
      "source": [
        "## Exercises\n",
        "\n",
        "\n",
        "<a id='np-ex1'></a>"
      ]
    },
    {
      "cell_type": "markdown",
      "metadata": {
        "id": "jjM5ErSNNDJ9"
      },
      "source": [
        "### Exercise 1\n",
        "\n",
        "Consider the polynomial expression\n",
        "\n",
        "\n",
        "<a id='equation-np-polynom'></a>\n",
        "$$\n",
        "p(x) = a_0 + a_1 x + a_2 x^2 + \\cdots a_N x^N = \\sum_{n=0}^N a_n x^n \\tag{1}\n",
        "$$\n",
        "\n",
        "[Earlier](https://python.quantecon.org/python_essentials.html#pyess-ex2), you wrote a simple function `p(x, coeff)` to evaluate [(1)](#equation-np-polynom) without considering efficiency.\n",
        "\n",
        "Now write a new function that does the same job, but uses NumPy arrays and array operations for its computations, rather than any form of Python loop.\n",
        "\n",
        "(Such functionality is already implemented as `np.poly1d`, but for the sake of the exercise don’t use this class)\n",
        "\n",
        "- Hint: Use `np.cumprod()`  \n",
        "\n",
        "\n",
        "\n",
        "<a id='np-ex2'></a>"
      ]
    },
    {
      "cell_type": "markdown",
      "metadata": {
        "id": "cSRsepBiNDJ-"
      },
      "source": [
        "### Exercise 2\n",
        "\n",
        "Let `q` be a NumPy array of length `n` with `q.sum() == 1`.\n",
        "\n",
        "Suppose that `q` represents a [probability mass function](https://en.wikipedia.org/wiki/Probability_mass_function).\n",
        "\n",
        "We wish to generate a discrete random variable $ x $ such that $ \\mathbb P\\{x = i\\} = q_i $.\n",
        "\n",
        "In other words, `x` takes values in `range(len(q))` and `x = i` with probability `q[i]`.\n",
        "\n",
        "The standard (inverse transform) algorithm is as follows:\n",
        "\n",
        "- Divide the unit interval $ [0, 1] $ into $ n $ subintervals $ I_0, I_1, \\ldots, I_{n-1} $ such that the length of $ I_i $ is $ q_i $.  \n",
        "- Draw a uniform random variable $ U $ on $ [0, 1] $ and return the $ i $ such that $ U \\in I_i $.  \n",
        "\n",
        "\n",
        "The probability of drawing $ i $ is the length of $ I_i $, which is equal to $ q_i $.\n",
        "\n",
        "We can implement the algorithm as follows"
      ]
    },
    {
      "cell_type": "code",
      "execution_count": null,
      "metadata": {
        "hide-output": false,
        "id": "usQzaorQNDJ_"
      },
      "outputs": [],
      "source": [
        "from random import uniform\n",
        "\n",
        "def sample(q):\n",
        "    a = 0.0\n",
        "    U = uniform(0, 1)\n",
        "    for i in range(len(q)):\n",
        "        if a < U <= a + q[i]:\n",
        "            return i\n",
        "        a = a + q[i]"
      ]
    },
    {
      "cell_type": "markdown",
      "metadata": {
        "id": "49OH4wDNNDKA"
      },
      "source": [
        "If you can’t see how this works, try thinking through the flow for a simple example, such as `q = [0.25, 0.75]`\n",
        "It helps to sketch the intervals on paper.\n",
        "\n",
        "Your exercise is to speed it up using NumPy, avoiding explicit loops\n",
        "\n",
        "- Hint: Use `np.searchsorted` and `np.cumsum`  \n",
        "\n",
        "\n",
        "If you can, implement the functionality as a class called `DiscreteRV`, where\n",
        "\n",
        "- the data for an instance of the class is the vector of probabilities `q`  \n",
        "- the class has a `draw()` method, which returns one draw according to the algorithm described above  \n",
        "\n",
        "\n",
        "If you can, write the method so that `draw(k)` returns `k` draws from `q`.\n",
        "\n",
        "\n",
        "<a id='np-ex3'></a>"
      ]
    },
    {
      "cell_type": "markdown",
      "metadata": {
        "id": "lgvqpxXWNDKB"
      },
      "source": [
        "### Exercise 3\n",
        "\n",
        "Recall our [earlier discussion](https://python.quantecon.org/python_oop.html#oop-ex1) of the empirical cumulative distribution function.\n",
        "\n",
        "Your task is to\n",
        "\n",
        "1. Make the `__call__` method more efficient using NumPy.  \n",
        "1. Add a method that plots the ECDF over $ [a, b] $, where $ a $ and $ b $ are method parameters.  "
      ]
    },
    {
      "cell_type": "markdown",
      "metadata": {
        "id": "l-Li6RIiNDKB"
      },
      "source": [
        "## Solutions"
      ]
    },
    {
      "cell_type": "code",
      "execution_count": null,
      "metadata": {
        "hide-output": false,
        "id": "wSnu7NIDNDKC"
      },
      "outputs": [],
      "source": [
        "import matplotlib.pyplot as plt\n",
        "%matplotlib inline"
      ]
    },
    {
      "cell_type": "markdown",
      "metadata": {
        "id": "gdTLuk7BNDKC"
      },
      "source": [
        "### Exercise 1\n",
        "\n",
        "This code does the job"
      ]
    },
    {
      "cell_type": "code",
      "execution_count": null,
      "metadata": {
        "hide-output": false,
        "id": "IlAz3rzLNDKD"
      },
      "outputs": [],
      "source": [
        "def p(x, coef):\n",
        "    X = np.ones_like(coef)\n",
        "    X[1:] = x\n",
        "    y = np.cumprod(X)   # y = [1, x, x**2,...]\n",
        "    return coef @ y"
      ]
    },
    {
      "cell_type": "markdown",
      "metadata": {
        "id": "Mu-4nq_nNDKD"
      },
      "source": [
        "Let’s test it"
      ]
    },
    {
      "cell_type": "code",
      "execution_count": null,
      "metadata": {
        "hide-output": false,
        "id": "DW17fM2bNDKE"
      },
      "outputs": [],
      "source": [
        "x = 2\n",
        "coef = np.linspace(2, 4, 3)\n",
        "print(coef)\n",
        "print(p(x, coef))\n",
        "# For comparison\n",
        "q = np.poly1d(np.flip(coef))\n",
        "print(q(x))"
      ]
    },
    {
      "cell_type": "markdown",
      "metadata": {
        "id": "CFCFjAX6NDKF"
      },
      "source": [
        "### Exercise 2\n",
        "\n",
        "Here’s our first pass at a solution:"
      ]
    },
    {
      "cell_type": "code",
      "execution_count": null,
      "metadata": {
        "hide-output": false,
        "id": "ilEIC7FWNDKF"
      },
      "outputs": [],
      "source": [
        "from numpy import cumsum\n",
        "from numpy.random import uniform\n",
        "\n",
        "class DiscreteRV:\n",
        "    \"\"\"\n",
        "    Generates an array of draws from a discrete random variable with vector of\n",
        "    probabilities given by q.\n",
        "    \"\"\"\n",
        "\n",
        "    def __init__(self, q):\n",
        "        \"\"\"\n",
        "        The argument q is a NumPy array, or array like, nonnegative and sums\n",
        "        to 1\n",
        "        \"\"\"\n",
        "        self.q = q\n",
        "        self.Q = cumsum(q)\n",
        "\n",
        "    def draw(self, k=1):\n",
        "        \"\"\"\n",
        "        Returns k draws from q. For each such draw, the value i is returned\n",
        "        with probability q[i].\n",
        "        \"\"\"\n",
        "        return self.Q.searchsorted(uniform(0, 1, size=k))"
      ]
    },
    {
      "cell_type": "markdown",
      "metadata": {
        "id": "1oPzSAaCNDKG"
      },
      "source": [
        "The logic is not obvious, but if you take your time and read it slowly,\n",
        "you will understand.\n",
        "\n",
        "There is a problem here, however.\n",
        "\n",
        "Suppose that `q` is altered after an instance of `discreteRV` is\n",
        "created, for example by"
      ]
    },
    {
      "cell_type": "code",
      "execution_count": null,
      "metadata": {
        "hide-output": false,
        "id": "wp_guYitNDKG"
      },
      "outputs": [],
      "source": [
        "q = (0.1, 0.9)\n",
        "d = DiscreteRV(q)\n",
        "d.q = (0.5, 0.5)"
      ]
    },
    {
      "cell_type": "markdown",
      "metadata": {
        "id": "TCCWBt76NDKH"
      },
      "source": [
        "The problem is that `Q` does not change accordingly, and `Q` is the\n",
        "data used in the `draw` method.\n",
        "\n",
        "To deal with this, one option is to compute `Q` every time the draw\n",
        "method is called.\n",
        "\n",
        "But this is inefficient relative to computing `Q` once-off.\n",
        "\n",
        "A better option is to use descriptors.\n",
        "\n",
        "A solution from the [quantecon\n",
        "library](https://github.com/QuantEcon/QuantEcon.py/tree/master/quantecon)\n",
        "using descriptors that behaves as we desire can be found\n",
        "[here](https://github.com/QuantEcon/QuantEcon.py/blob/master/quantecon/discrete_rv.py)."
      ]
    },
    {
      "cell_type": "markdown",
      "metadata": {
        "id": "0jJ1qfjxNDKI"
      },
      "source": [
        "### Exercise 3\n",
        "\n",
        "An example solution is given below.\n",
        "\n",
        "In essence, we’ve just taken [this\n",
        "code](https://github.com/QuantEcon/QuantEcon.py/blob/master/quantecon/ecdf.py)\n",
        "from QuantEcon and added in a plot method"
      ]
    },
    {
      "cell_type": "code",
      "execution_count": null,
      "metadata": {
        "hide-output": false,
        "id": "yjsWAzepNDKK"
      },
      "outputs": [],
      "source": [
        "\"\"\"\n",
        "Modifies ecdf.py from QuantEcon to add in a plot method\n",
        "\n",
        "\"\"\"\n",
        "\n",
        "class ECDF:\n",
        "    \"\"\"\n",
        "    One-dimensional empirical distribution function given a vector of\n",
        "    observations.\n",
        "\n",
        "    Parameters\n",
        "    ----------\n",
        "    observations : array_like\n",
        "        An array of observations\n",
        "\n",
        "    Attributes\n",
        "    ----------\n",
        "    observations : array_like\n",
        "        An array of observations\n",
        "\n",
        "    \"\"\"\n",
        "\n",
        "    def __init__(self, observations):\n",
        "        self.observations = np.asarray(observations)\n",
        "\n",
        "    def __call__(self, x):\n",
        "        \"\"\"\n",
        "        Evaluates the ecdf at x\n",
        "\n",
        "        Parameters\n",
        "        ----------\n",
        "        x : scalar(float)\n",
        "            The x at which the ecdf is evaluated\n",
        "\n",
        "        Returns\n",
        "        -------\n",
        "        scalar(float)\n",
        "            Fraction of the sample less than x\n",
        "\n",
        "        \"\"\"\n",
        "        return np.mean(self.observations <= x)\n",
        "\n",
        "    def plot(self, ax, a=None, b=None):\n",
        "        \"\"\"\n",
        "        Plot the ecdf on the interval [a, b].\n",
        "\n",
        "        Parameters\n",
        "        ----------\n",
        "        a : scalar(float), optional(default=None)\n",
        "            Lower endpoint of the plot interval\n",
        "        b : scalar(float), optional(default=None)\n",
        "            Upper endpoint of the plot interval\n",
        "\n",
        "        \"\"\"\n",
        "\n",
        "        # === choose reasonable interval if [a, b] not specified === #\n",
        "        if a is None:\n",
        "            a = self.observations.min() - self.observations.std()\n",
        "        if b is None:\n",
        "            b = self.observations.max() + self.observations.std()\n",
        "\n",
        "        # === generate plot === #\n",
        "        x_vals = np.linspace(a, b, num=100)\n",
        "        f = np.vectorize(self.__call__)\n",
        "        ax.plot(x_vals, f(x_vals))\n",
        "        plt.show()"
      ]
    },
    {
      "cell_type": "markdown",
      "metadata": {
        "id": "tDoERZoQNDKM"
      },
      "source": [
        "Here’s an example of usage"
      ]
    },
    {
      "cell_type": "code",
      "execution_count": null,
      "metadata": {
        "hide-output": false,
        "id": "3m83AK20NDKN"
      },
      "outputs": [],
      "source": [
        "fig, ax = plt.subplots()\n",
        "X = np.random.randn(1000)\n",
        "F = ECDF(X)\n",
        "F.plot(ax)"
      ]
    }
  ],
  "metadata": {
    "date": 1584334748.2838585,
    "filename": "numpy.rst",
    "kernelspec": {
      "display_name": "Python",
      "language": "python3",
      "name": "python3"
    },
    "title": "NumPy",
    "colab": {
      "provenance": []
    }
  },
  "nbformat": 4,
  "nbformat_minor": 0
}